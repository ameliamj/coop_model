{
 "cells": [
  {
   "cell_type": "code",
   "execution_count": 2,
   "id": "af620495-2f67-4365-a79e-0c2aa2af0026",
   "metadata": {
    "ExecuteTime": {
     "end_time": "2025-06-13T19:54:34.698562Z",
     "start_time": "2025-06-13T19:54:34.602569Z"
    }
   },
   "outputs": [],
   "source": [
    "import os\n",
    "import numpy as np"
   ]
  },
  {
   "cell_type": "code",
   "execution_count": 3,
   "id": "69ce7725-60e8-4388-81da-daadc384ebf4",
   "metadata": {
    "ExecuteTime": {
     "end_time": "2025-06-13T19:54:34.768287Z",
     "start_time": "2025-06-13T19:54:34.753258Z"
    }
   },
   "outputs": [],
   "source": [
    "start_command = 'module load miniconda; conda activate social_comp; cd /home/aj764/project/grlt_next/grlt_next/maddpg;'"
   ]
  },
  {
   "cell_type": "code",
   "execution_count": 18,
   "id": "9d33e273-de96-4b6f-9ca2-8bafdff7702e",
   "metadata": {},
   "outputs": [],
   "source": [
    "# maddpg3 method!! for pos\n",
    "count = 0\n",
    "command_lines = ''\n",
    "for i in range(4):\n",
    "    for gaze in ['partial', 'full', 'none']:\n",
    "        for loss in ['pos']: # ['move action', 'pos']:\n",
    "            for thresh in range(5):\n",
    "                for beta in [0, .75]:\n",
    "                    loss_name = 'act' if loss == 'move action' else 'pos'\n",
    "                    scenario_name = f'{gaze}_{loss_name}_t{thresh}_{i}' if beta == 0 else f'{gaze}_{loss_name}_t{thresh}_embed_{i}'\n",
    "                    save_dir = 'small_all2'\n",
    "                    end_command = f\"python main.py --reward-fn=coord --method=maddpg3 --scenario-name={scenario_name} --threshold={thresh} --gaze-type={gaze} --actor-type=pytorch --critic-type=recurrent --lever-cue=normal --embed-test=both --actor-beta={beta} --critic-beta={beta} --save-dir=./model/{save_dir} --reward-value=100 --save-loss=True --small-env=True --max-episode-len=400 --evaluate-rate=400 --evaluate-episode-len=400 --time-step=800000 --embed-loss={loss}\"\n",
    "                    command_lines += (start_command + end_command + '\\n')\n",
    "                    # print(start_command + end_command)\n",
    "\n",
    "                    count +=1"
   ]
  },
  {
   "cell_type": "code",
   "execution_count": 21,
   "id": "c4f7b0b0-bea3-4c37-adad-136c2f09c57e",
   "metadata": {},
   "outputs": [],
   "source": [
    "# maddpg method!! for pos and act\n",
    "count = 0\n",
    "command_lines = ''\n",
    "for i in range(2):\n",
    "    for gaze in ['partial', 'full', 'none']:\n",
    "        for loss in ['pos', 'move action']: # ['move action', 'pos']:\n",
    "            for thresh in range(5):\n",
    "                for embed_input in ['none', 'both']:\n",
    "                    loss_name = 'act' if loss == 'move action' else 'pos'\n",
    "                    scenario_name = f'{gaze}_{loss_name}_t{thresh}_{i}_embed' if embed_input == 'both' else f'{gaze}_{loss_name}_t{thresh}_{i}'\n",
    "                    save_dir = 'small_all_maddpg'\n",
    "                    end_command = f\"python main.py --reward-fn=coord --method=maddpg --scenario-name={scenario_name} --threshold={thresh} --gaze-type={gaze} --actor-type=pytorch --critic-type=recurrent --lever-cue=normal --embed-input={embed_input} --embed-model=recurrent --save-dir=./model/{save_dir} --reward-value=100 --save-loss=True --small-env=True --max-episode-len=400 --evaluate-rate=400 --evaluate-episode-len=400 --time-step=800000 --embed-loss={loss}  --embed-test={'None'}\"\n",
    "                    command_lines += (start_command + end_command + '\\n')\n",
    "                    # print(start_command + end_command)\n",
    "\n",
    "                    count +=1"
   ]
  },
  {
   "cell_type": "code",
   "execution_count": null,
   "id": "1d0233b3-cd54-490f-876a-0903f8371a9f",
   "metadata": {},
   "outputs": [],
   "source": [
    "command_lines = ''\n",
    "for i in range(2):\n",
    "    for gaze in ['partial', 'full', 'none']:\n",
    "        for loss in ['move action', 'pos']:\n",
    "            for thresh in range(5):\n",
    "                for beta in [0, .75]:\n",
    "                    loss_name = 'act' if loss == 'move action' else 'pos'\n",
    "                    scenario_name = f'{gaze}_{loss_name}_t{thresh}_{i}' if beta == 0 else f'{gaze}_{loss_name}_t{thresh}_embed_{i}'\n",
    "                    save_dir = 'small_all2'\n",
    "                    end_command = f\"python main.py --reward-fn=coord --method=maddpg3 --scenario-name={scenario_name} --threshold={thresh} --gaze-type={gaze} --actor-type=pytorch --critic-type=recurrent --lever-cue=normal --embed-test=both --actor-beta={beta} --critic-beta={beta} --save-dir=./model/{save_dir} --reward-value=100 --save-loss=True --small-env=True --max-episode-len=400 --evaluate-rate=400 --evaluate-episode-len=400 --time-step=800000\"\n",
    "                    command_lines += (start_command + end_command + '\\n')\n",
    "                    # print(start_command + end_command)"
   ]
  },
  {
   "cell_type": "code",
   "execution_count": 22,
   "id": "5cd471f5-9e95-4845-813f-70a1f1b9ab46",
   "metadata": {},
   "outputs": [],
   "source": [
    "command_lines = ''\n",
    "for i in range(2):\n",
    "    for gaze in ['partial', 'full', 'none']:\n",
    "        for loss in ['move action', 'pos']:\n",
    "            for thresh in range(5):\n",
    "                for beta in [0, .75]:\n",
    "                    loss_name = 'act' if loss == 'move action' else 'pos'\n",
    "                    scenario_name = f'{gaze}_{loss_name}_t{thresh}_{i}' if beta == 0 else f'{gaze}_{loss_name}_t{thresh}_embed_{i}'\n",
    "                    save_dir = 'small_all2'\n",
    "                    end_command = f\"python main.py --reward-fn=coord --method=maddpg3 --scenario-name={scenario_name} --threshold={thresh} --gaze-type={gaze} --actor-type=pytorch --critic-type=recurrent --lever-cue=normal --embed-test=both --actor-beta={beta} --critic-beta={beta} --save-dir=./model/{save_dir} --reward-value=100 --save-loss=True --small-env=True --max-episode-len=400 --evaluate-rate=400 --evaluate-episode-len=400 --time-step=800000\"\n",
    "                    command_lines += (start_command + end_command + '\\n')\n",
    "                    # print(start_command + end_command)"
   ]
  },
  {
   "cell_type": "code",
   "execution_count": null,
   "id": "eff74c77-09c9-4105-8406-2b807d3d198f",
   "metadata": {},
   "outputs": [],
   "source": [
    "count = 0\n",
    "\n",
    "for gaze in ['partial', 'full']:\n",
    "    save_dir = 'scratch_joint_' + gaze\n",
    "    command_lines = ''\n",
    "    for i in range(20):\n",
    "        end_command = f\"python main.py --reward-fn=coord --method=maddpg3 --scenario-name=scratch_joint_{gaze}_{i} --threshold=7 --evaluate-episode-len=1000 --gaze-type={gaze} --actor-type=pytorch --critic-type=recurrent --lever-cue=normal --embed-test=both --save-dir=./model/{save_dir} --reward-value=100 --save-loss=True\"\n",
    "        command_lines += (start_command + end_command + '\\n')\n",
    "        print(start_command + end_command)\n",
    "        count += 1"
   ]
  },
  {
   "cell_type": "code",
   "execution_count": null,
   "id": "d973db0c-9262-4057-b21c-08637870c4de",
   "metadata": {},
   "outputs": [],
   "source": [
    "count = 0\n",
    "\n",
    "for gaze in ['partial', 'full']:\n",
    "    save_dir = 'scratch_' + gaze\n",
    "    command_lines = ''\n",
    "    for i in range(20):\n",
    "        end_command = f\"python main.py --reward-fn=coord --method=maddpg --scenario-name=scratch_{gaze}_{i} --threshold=7 --evaluate-episode-len=1000 --gaze-type={gaze} --actor-type=pytorch --critic-type=recurrent --lever-cue=normal --embed-input=both --embed-model=recurrent --embed-loss=action --embed-train=offline --save-dir=./model/{save_dir} --reward-value=100 --save-loss=True\"\n",
    "        command_lines += (start_command + end_command + '\\n')\n",
    "        print(start_command + end_command)\n",
    "        count += 1"
   ]
  },
  {
   "cell_type": "code",
   "execution_count": null,
   "id": "3cb60e41-d616-4b61-a0fe-c8af3146dc4b",
   "metadata": {
    "ExecuteTime": {
     "end_time": "2025-06-13T19:54:35.025438Z",
     "start_time": "2025-06-13T19:54:35.022078Z"
    }
   },
   "outputs": [],
   "source": [
    "good = np.load('./maddpg/model/big_reward_pause/good_folds.npy', allow_pickle=True).item()"
   ]
  },
  {
   "cell_type": "code",
   "execution_count": null,
   "id": "a2e61d5e-7287-4ce7-a49b-cc2dc8243bc7",
   "metadata": {},
   "outputs": [],
   "source": [
    "count = 0\n",
    "for g in good:\n",
    "    gaze='pause'\n",
    "    save_dir = 'load_embed_cont_' + gaze\n",
    "    for i in range(4):\n",
    "        end_command = f\"python main.py --reward-fn=coord --method=maddpg --scenario-name=load_cont_{gaze}_{count} --threshold=7 --evaluate-episode-len=1000 --gaze-type={gaze} --actor-type=pytorch --critic-type=recurrent --lever-cue=True --embed=both --embed-type=linear --save-dir=./model/{save_dir} --reward-value=100 --load-weights=True --load-name=big_reward_pause/{g}\"\n",
    "        command_lines += (start_command + end_command + '\\n')\n",
    "        print(start_command + end_command)\n",
    "        count += 1"
   ]
  },
  {
   "cell_type": "code",
   "execution_count": null,
   "id": "e6d13160-cd3a-4fa5-add3-59ada8c8dc8a",
   "metadata": {},
   "outputs": [],
   "source": [
    "command_lines = ''\n",
    "gazes = ['full', 'pause']\n",
    "\n",
    "# gazes = ['pause']\n",
    "for g in gazes:\n",
    "    save_dir = 'load_embed_scratch_' + g\n",
    "    for i in range(20):\n",
    "        end_command = f\"python main.py --reward-fn=coord --method=maddpg --scenario-name=load_scratch_{g}_{i} --threshold=7 --evaluate-episode-len=1000 --gaze-type={g} --actor-type=pytorch --critic-type=recurrent --lever-cue=True --embed=both --embed-type=linear --save-dir=./model/{save_dir} --reward-value=100 --load-weights=True --load-name=00_old_embed_weights\"\n",
    "        command_lines += (start_command + end_command + '\\n')\n",
    "        print(start_command + end_command)\n"
   ]
  },
  {
   "cell_type": "code",
   "execution_count": null,
   "id": "ea71af1e-4fa0-4ad6-bbac-98355a23b404",
   "metadata": {},
   "outputs": [],
   "source": [
    "command_lines = ''\n",
    "gazes = ['full', 'pause']\n",
    "\n",
    "# gazes = ['pause']\n",
    "for g in gazes:\n",
    "    save_dir = 'load_embed_scratch_' + g\n",
    "    for i in range(20):\n",
    "        end_command = f\"python main.py --reward-fn=coord --method=maddpg --scenario-name=load_scratch_{g}_{i} --threshold=7 --evaluate-episode-len=1000 --gaze-type={g} --actor-type=pytorch --critic-type=recurrent --lever-cue=True --embed=both --embed-type=linear --save-dir=./model/{save_dir} --reward-value=100 --load-weights=True --load-name=00_old_embed_weights\"\n",
    "        command_lines += (start_command + end_command + '\\n')\n",
    "        print(start_command + end_command)\n"
   ]
  },
  {
   "cell_type": "code",
   "execution_count": 3,
   "id": "3d6fed5d-74b2-4a1b-9fe0-1757981aa1e0",
   "metadata": {},
   "outputs": [],
   "source": [
    "# types = [('pytorch', 'pytorch'), ('recurrent', 'pytorch'), ('lstm', 'pytorch'), ('pytorch', 'recurrent')]\n",
    "types = [('pytorch', 'recurrent')]\n",
    "embed = ['None', 'actor', 'critic', 'both']\n",
    "embed_types = ['linear', 'recurrent']"
   ]
  },
  {
   "cell_type": "code",
   "execution_count": null,
   "id": "62f8354a-6e8f-47e8-b52e-fe3424f6b53a",
   "metadata": {},
   "outputs": [],
   "source": [
    "count = 0\n",
    "command_lines = ''\n",
    "actor = 'pytorch'\n",
    "critic = 'recurrent'\n",
    "\n",
    "embed = ['actor', 'critic', 'both']\n",
    "gazes = ['full', 'pause']\n",
    "t = 'linear'\n",
    "\n",
    "e = 'actor'\n",
    "name = '00_embed_pred_cont/embed_actor_lin1'\n",
    "for g in gazes:\n",
    "    for i in range(4):\n",
    "        end_command = f\"python main.py --reward-fn=coord --method=maddpg --scenario-name={e}_{g}{i} --threshold=7 --evaluate-episode-len=1000 --gaze-type={g} --actor-type={actor} --critic-type={critic} --lever-cue=True --embed={e} --embed-type={t} --save-dir=./model/00_embed_gaze_load_embed --load-weights=True --load-name={name}\"\n",
    "        command_lines += (start_command + end_command + '\\n')\n",
    "        print(start_command + end_command)\n",
    "        count += 1\n",
    "\n",
    "e = 'critic'\n",
    "name = '00_embed_pred_cont/embed_critic_lin1'\n",
    "for g in gazes:\n",
    "    for i in range(4):\n",
    "        end_command = f\"python main.py --reward-fn=coord --method=maddpg --scenario-name={e}_{g}{i} --threshold=7 --evaluate-episode-len=1000 --gaze-type={g} --actor-type={actor} --critic-type={critic} --lever-cue=True --embed={e} --embed-type={t} --save-dir=./model/00_embed_gaze_load_embed --load-weights=True --load-name={name}\"\n",
    "        command_lines += (start_command + end_command + '\\n')\n",
    "        print(start_command + end_command)\n",
    "        count += 1\n",
    "\n",
    "e = 'both'\n",
    "name = '00_embed_pred_cont/embed_both_rec1'\n",
    "t = 'recurrent'\n",
    "for g in gazes:\n",
    "    for i in range(4):\n",
    "        end_command = f\"python main.py --reward-fn=coord --method=maddpg --scenario-name={e}_{g}{i} --threshold=7 --evaluate-episode-len=1000 --gaze-type={g} --actor-type={actor} --critic-type={critic} --lever-cue=True --embed={e} --embed-type={t} --save-dir=./model/00_embed_gaze_load_embed --load-weights=True --load-name={name}\"\n",
    "        command_lines += (start_command + end_command + '\\n')\n",
    "        print(start_command + end_command)\n",
    "        count += 1"
   ]
  },
  {
   "cell_type": "code",
   "execution_count": 10,
   "id": "5d4707e6-7f7a-4667-b958-693d99fe6477",
   "metadata": {},
   "outputs": [],
   "source": [
    "jobdir = '/gpfs/radev/project/saxena/aj764/ood/projects/default/'\n",
    "commanddir = jobdir + str(222)\n",
    "os.mkdir(commanddir)\n",
    "with open(f\"{commanddir}/all_vids_job.txt\", \"w\") as file:\n",
    "    file.write(command_lines) "
   ]
  }
 ],
 "metadata": {
  "kernelspec": {
   "display_name": "Python 3 (ipykernel)",
   "language": "python",
   "name": "python3"
  },
  "language_info": {
   "codemirror_mode": {
    "name": "ipython",
    "version": 3
   },
   "file_extension": ".py",
   "mimetype": "text/x-python",
   "name": "python",
   "nbconvert_exporter": "python",
   "pygments_lexer": "ipython3",
   "version": "3.12.5"
  }
 },
 "nbformat": 4,
 "nbformat_minor": 5
}
