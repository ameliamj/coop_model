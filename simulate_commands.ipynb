{
 "cells": [
  {
   "cell_type": "code",
   "execution_count": 1,
   "id": "44192d8c-dee4-46cd-86f9-19d9cdbeace2",
   "metadata": {},
   "outputs": [],
   "source": [
    "# right now, this is all going to be for only one folder, but would be nice to be able to do it across more folders"
   ]
  },
  {
   "cell_type": "code",
   "execution_count": 1,
   "id": "5e33d303-cea8-480a-b587-79b801ec93be",
   "metadata": {
    "ExecuteTime": {
     "end_time": "2025-06-13T19:54:45.401772Z",
     "start_time": "2025-06-13T19:54:45.300765Z"
    }
   },
   "outputs": [],
   "source": [
    "import os\n",
    "from simulate import get_model_folds, get_trained_models, get_sim_commands"
   ]
  },
  {
   "cell_type": "code",
   "execution_count": 2,
   "id": "9b4d65f4-1a91-46e0-8367-399812b744d2",
   "metadata": {
    "ExecuteTime": {
     "end_time": "2025-06-13T19:56:15.162690Z",
     "start_time": "2025-06-13T19:56:15.153902Z"
    }
   },
   "outputs": [],
   "source": [
    "dirs = os.listdir('./maddpg/model/')\n",
    "if '.ipynb_checkpoints' in dirs:\n",
    "    dirs.remove('.ipynb_checkpoints')\n",
    "    dirs.remove('.DS_Store')\n",
    "dirs = sorted(dirs)"
   ]
  },
  {
   "cell_type": "code",
   "execution_count": 4,
   "id": "6c3284d645594359",
   "metadata": {
    "ExecuteTime": {
     "end_time": "2025-06-13T19:56:15.539270Z",
     "start_time": "2025-06-13T19:56:15.534713Z"
    }
   },
   "outputs": [
    {
     "data": {
      "text/plain": [
       "['test_forgot_to_name']"
      ]
     },
     "execution_count": 4,
     "metadata": {},
     "output_type": "execute_result"
    }
   ],
   "source": [
    "dirs"
   ]
  },
  {
   "cell_type": "code",
   "execution_count": 5,
   "id": "3f1614a1-507d-4e52-95b0-629434e1e77f",
   "metadata": {
    "ExecuteTime": {
     "end_time": "2025-06-13T19:56:16.780237Z",
     "start_time": "2025-06-13T19:56:16.316776Z"
    }
   },
   "outputs": [
    {
     "name": "stdout",
     "output_type": "stream",
     "text": [
      "cant load maddpg/model/test_forgot_to_name/agent_0/returns1.npy\n",
      "cant load maddpg/model/test_forgot_to_name/agent_1/returns1.npy\n",
      "test_forgot_to_name 0 2\n"
     ]
    }
   ],
   "source": [
    "# need to make it easy to submit a job for all or all that don't have an evaluate folders...\n",
    "command_lines = ''\n",
    "for d in dirs:\n",
    "    model_dir = d + '/'\n",
    "    folders = get_model_folds(model_dir)\n",
    "    good_folds = get_trained_models(folders, model_dir)\n",
    "    print(d, len(list(good_folds.keys())), len(folders))\n",
    "    \n",
    "    # if d == 'scratch_full':\n",
    "    #     print(good_folds)\n",
    "\n",
    "    if d == 'scratch_joint_full_cont': \n",
    "        command = get_sim_commands(good_folds, model_dir)\n",
    "        command_lines += command\n"
   ]
  },
  {
   "cell_type": "code",
   "execution_count": 6,
   "id": "5c8a89fc-d62c-487f-a7ff-634c81c50007",
   "metadata": {},
   "outputs": [
    {
     "name": "stdout",
     "output_type": "stream",
     "text": [
      "\n"
     ]
    }
   ],
   "source": [
    "print(command_lines)"
   ]
  }
 ],
 "metadata": {
  "kernelspec": {
   "display_name": "Python 3 (ipykernel)",
   "language": "python",
   "name": "python3"
  },
  "language_info": {
   "codemirror_mode": {
    "name": "ipython",
    "version": 3
   },
   "file_extension": ".py",
   "mimetype": "text/x-python",
   "name": "python",
   "nbconvert_exporter": "python",
   "pygments_lexer": "ipython3",
   "version": "3.12.5"
  }
 },
 "nbformat": 4,
 "nbformat_minor": 5
}
